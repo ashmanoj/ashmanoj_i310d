{
 "cells": [
  {
   "cell_type": "markdown",
   "id": "a8d4bd15",
   "metadata": {},
   "source": [
    "# Hands-on 5: Data-Engineering II - Data Visualization\n",
    "\n",
    "*Note: This lab session is graded. Complete all the exercises, run your code and upload the ipynb file under assignment **Hands-on: Data Visualization**\n",
    "\n",
    "**Deadline is Today (02/14), 11:59 PM**"
   ]
  },
  {
   "cell_type": "markdown",
   "id": "6ee1c46e",
   "metadata": {},
   "source": [
    "## Data Collection for Weather Analysis "
   ]
  },
  {
   "cell_type": "markdown",
   "id": "978077f5",
   "metadata": {},
   "source": [
    "Last week, we scraped the EstesPark website and collected data for the month of January 2023. \n",
    "https://www.estesparkweather.net/archive_reports.php?date=202301. \n",
    "\n",
    "Today, we will try to perform data analysis where we extract descriptive statistics and apply data visualization techniques to gain some insights\n",
    "\n",
    "We would need the following Python libraries : \n",
    "\n",
    "**Pandas:** This is the library for dealing with Tablular data. Also allows some statistical opetations. \n",
    "\n",
    "**NumPy/Scipy:** Library for statistical analysis\n",
    "\n",
    "**Matplotlib:** For plotting data "
   ]
  },
  {
   "cell_type": "markdown",
   "id": "dd06e27b",
   "metadata": {},
   "source": [
    "## 0. Install and Import Libraries"
   ]
  },
  {
   "cell_type": "code",
   "execution_count": 4,
   "id": "e36bb7d4",
   "metadata": {},
   "outputs": [
    {
     "name": "stdout",
     "output_type": "stream",
     "text": [
      "Imported all libraries successfully...\n"
     ]
    }
   ],
   "source": [
    "# Check if beautifulsoup and pandas are already installed\n",
    "# If not, install it and then import\n",
    "try:\n",
    "    import pandas as pd\n",
    "    import numpy as np\n",
    "    import scipy\n",
    "    from matplotlib import pyplot as plt\n",
    "    print (\"Imported all libraries successfully...\")\n",
    "except:\n",
    "    import sys\n",
    "    !conda install --yes --prefix {sys.prefix} numpy\n",
    "    !conda install --yes --prefix {sys.prefix} pandas\n",
    "    !conda install --yes --prefix {sys.prefix} matplotlib\n",
    "    !conda install --yes --prefix {sys.prefix} scipy\n",
    "    print (\"Some libraries not found, installing...\")"
   ]
  },
  {
   "cell_type": "markdown",
   "id": "713305e0",
   "metadata": {},
   "source": [
    "## 1. Load the EstesPark data we collected"
   ]
  },
  {
   "cell_type": "markdown",
   "id": "e4c4c864",
   "metadata": {},
   "source": [
    "If you did the last hands-on, you should have the data on your local folder by the name **EstesPark_Weather_January_2023.csv**. If you do not have it, you could download it from **Canvas->Files->Week6->EstesPark_Weather_January_2023.csv**\n",
    "\n",
    "Try to open the file in Excel / Numbers / Open office (just doube click on it to open with your default app for numbers)."
   ]
  },
  {
   "cell_type": "code",
   "execution_count": 5,
   "id": "1e080d0c",
   "metadata": {
    "scrolled": true
   },
   "outputs": [
    {
     "name": "stdout",
     "output_type": "stream",
     "text": [
      "<class 'pandas.core.frame.DataFrame'>\n",
      "RangeIndex: 32 entries, 0 to 31\n",
      "Data columns (total 21 columns):\n",
      " #   Column                   Non-Null Count  Dtype  \n",
      "---  ------                   --------------  -----  \n",
      " 0   Unnamed: 0               32 non-null     int64  \n",
      " 1   Average and Extremes     32 non-null     object \n",
      " 2   Average temperature      32 non-null     float64\n",
      " 3   Average humidity         32 non-null     float64\n",
      " 4   Average dewpoint         32 non-null     float64\n",
      " 5   Average barometer        32 non-null     float64\n",
      " 6   Average windspeed        32 non-null     float64\n",
      " 7   Average gustspeed        32 non-null     float64\n",
      " 8   Average direction        32 non-null     object \n",
      " 9   Rainfall for month       32 non-null     object \n",
      " 10  Rainfall for year        32 non-null     object \n",
      " 11  Maximum rain per minute  32 non-null     object \n",
      " 12  Maximum temperature      32 non-null     object \n",
      " 13  Minimum temperature      32 non-null     object \n",
      " 14  Maximum humidity         32 non-null     object \n",
      " 15  Minimum humidity         32 non-null     object \n",
      " 16  Maximum pressure         32 non-null     object \n",
      " 17  Minimum pressure         32 non-null     object \n",
      " 18  Maximum windspeed        32 non-null     object \n",
      " 19  Maximum gust speed       32 non-null     object \n",
      " 20  Maximum heat index       32 non-null     object \n",
      "dtypes: float64(6), int64(1), object(14)\n",
      "memory usage: 5.4+ KB\n"
     ]
    }
   ],
   "source": [
    "# Before starting, let's tell jupyter not to ignore any output that is supposed to be printed\n",
    "from IPython.core.interactiveshell import InteractiveShell\n",
    "InteractiveShell.ast_node_interactivity = \"all\"\n",
    "\n",
    "estes_park_df = pd.read_csv(\"EstesPark_Weather_January_2023.csv\")\n",
    "\n",
    "estes_park_df.info()"
   ]
  },
  {
   "cell_type": "markdown",
   "id": "caadd567",
   "metadata": {},
   "source": [
    "Print a few rows."
   ]
  },
  {
   "cell_type": "code",
   "execution_count": 6,
   "id": "a1bb5a0b",
   "metadata": {
    "scrolled": true
   },
   "outputs": [
    {
     "data": {
      "text/html": [
       "<div>\n",
       "<style scoped>\n",
       "    .dataframe tbody tr th:only-of-type {\n",
       "        vertical-align: middle;\n",
       "    }\n",
       "\n",
       "    .dataframe tbody tr th {\n",
       "        vertical-align: top;\n",
       "    }\n",
       "\n",
       "    .dataframe thead th {\n",
       "        text-align: right;\n",
       "    }\n",
       "</style>\n",
       "<table border=\"1\" class=\"dataframe\">\n",
       "  <thead>\n",
       "    <tr style=\"text-align: right;\">\n",
       "      <th></th>\n",
       "      <th>Unnamed: 0</th>\n",
       "      <th>Average and Extremes</th>\n",
       "      <th>Average temperature</th>\n",
       "      <th>Average humidity</th>\n",
       "      <th>Average dewpoint</th>\n",
       "      <th>Average barometer</th>\n",
       "      <th>Average windspeed</th>\n",
       "      <th>Average gustspeed</th>\n",
       "      <th>Average direction</th>\n",
       "      <th>Rainfall for month</th>\n",
       "      <th>...</th>\n",
       "      <th>Maximum rain per minute</th>\n",
       "      <th>Maximum temperature</th>\n",
       "      <th>Minimum temperature</th>\n",
       "      <th>Maximum humidity</th>\n",
       "      <th>Minimum humidity</th>\n",
       "      <th>Maximum pressure</th>\n",
       "      <th>Minimum pressure</th>\n",
       "      <th>Maximum windspeed</th>\n",
       "      <th>Maximum gust speed</th>\n",
       "      <th>Maximum heat index</th>\n",
       "    </tr>\n",
       "  </thead>\n",
       "  <tbody>\n",
       "    <tr>\n",
       "      <th>0</th>\n",
       "      <td>0</td>\n",
       "      <td>Jan 1</td>\n",
       "      <td>21.2</td>\n",
       "      <td>70.0</td>\n",
       "      <td>12.4</td>\n",
       "      <td>30.1</td>\n",
       "      <td>1.1</td>\n",
       "      <td>2.1</td>\n",
       "      <td>331° (NNW)</td>\n",
       "      <td>0.00 in.</td>\n",
       "      <td>...</td>\n",
       "      <td>0.00 in. on day 01 at time 00:00</td>\n",
       "      <td>39.1°F on day 01 at time 14:33</td>\n",
       "      <td>9.7°F on day 01 at time 23:22</td>\n",
       "      <td>91% on day 01 at time 23:49</td>\n",
       "      <td>39% on day 01 at time 14:37</td>\n",
       "      <td>30.176 in. on day 01 at time 10:04</td>\n",
       "      <td>29.940 in. on day 01 at time 03:44</td>\n",
       "      <td>9.2 mph on day 01 at time 23:58</td>\n",
       "      <td>15.0 mph  from 237 °(WSW) on day 01 at time 2...</td>\n",
       "      <td>39.1°F on day 01 at time 14:33</td>\n",
       "    </tr>\n",
       "    <tr>\n",
       "      <th>1</th>\n",
       "      <td>1</td>\n",
       "      <td>Jan 2</td>\n",
       "      <td>29.3</td>\n",
       "      <td>37.0</td>\n",
       "      <td>5.5</td>\n",
       "      <td>29.9</td>\n",
       "      <td>13.7</td>\n",
       "      <td>19.8</td>\n",
       "      <td>237° (WSW)</td>\n",
       "      <td>0.00 in.</td>\n",
       "      <td>...</td>\n",
       "      <td>0.00 in. on day 02 at time 23:59</td>\n",
       "      <td>37.0°F on day 02 at time 12:20</td>\n",
       "      <td>23.6°F on day 02 at time 00:00</td>\n",
       "      <td>62% on day 02 at time 00:00</td>\n",
       "      <td>20% on day 02 at time 10:53</td>\n",
       "      <td>30.116 in. on day 02 at time 00:06</td>\n",
       "      <td>29.808 in. on day 02 at time 12:49</td>\n",
       "      <td>25.3 mph on day 02 at time 13:06</td>\n",
       "      <td>38.0 mph  from 195 °(SSW) on day 02 at time 1...</td>\n",
       "      <td>37.0°F on day 02 at time 12:20</td>\n",
       "    </tr>\n",
       "    <tr>\n",
       "      <th>2</th>\n",
       "      <td>2</td>\n",
       "      <td>Jan 3</td>\n",
       "      <td>31.2</td>\n",
       "      <td>45.0</td>\n",
       "      <td>12.2</td>\n",
       "      <td>29.9</td>\n",
       "      <td>13.4</td>\n",
       "      <td>19.2</td>\n",
       "      <td>233° ( SW)</td>\n",
       "      <td>0.00 in.</td>\n",
       "      <td>...</td>\n",
       "      <td>0.00 in. on day 03 at time 23:59</td>\n",
       "      <td>38.4°F on day 03 at time 15:57</td>\n",
       "      <td>25.8°F on day 03 at time 00:14</td>\n",
       "      <td>65% on day 03 at time 20:35</td>\n",
       "      <td>36% on day 03 at time 03:42</td>\n",
       "      <td>29.965 in. on day 03 at time 23:46</td>\n",
       "      <td>29.769 in. on day 03 at time 14:02</td>\n",
       "      <td>29.9 mph on day 03 at time 11:12</td>\n",
       "      <td>43.7 mph  from 252 °(WSW) on day 03 at time 1...</td>\n",
       "      <td>38.4°F on day 03 at time 15:57</td>\n",
       "    </tr>\n",
       "    <tr>\n",
       "      <th>3</th>\n",
       "      <td>3</td>\n",
       "      <td>Jan 4</td>\n",
       "      <td>34.2</td>\n",
       "      <td>30.0</td>\n",
       "      <td>4.7</td>\n",
       "      <td>30.0</td>\n",
       "      <td>9.1</td>\n",
       "      <td>12.8</td>\n",
       "      <td>214° ( SW)</td>\n",
       "      <td>0.00 in.</td>\n",
       "      <td>...</td>\n",
       "      <td>0.00 in. on day 04 at time 23:59</td>\n",
       "      <td>43.3°F on day 04 at time 14:39</td>\n",
       "      <td>27.8°F on day 04 at time 06:14</td>\n",
       "      <td>51% on day 04 at time 01:48</td>\n",
       "      <td>15% on day 04 at time 16:11</td>\n",
       "      <td>30.110 in. on day 04 at time 09:46</td>\n",
       "      <td>29.790 in. on day 04 at time 23:48</td>\n",
       "      <td>21.9 mph on day 04 at time 03:40</td>\n",
       "      <td>34.5 mph  from 221 °( SW) on day 04 at time 0...</td>\n",
       "      <td>43.3°F on day 04 at time 14:38</td>\n",
       "    </tr>\n",
       "    <tr>\n",
       "      <th>4</th>\n",
       "      <td>4</td>\n",
       "      <td>Jan 5</td>\n",
       "      <td>33.6</td>\n",
       "      <td>48.0</td>\n",
       "      <td>15.8</td>\n",
       "      <td>29.8</td>\n",
       "      <td>10.6</td>\n",
       "      <td>15.6</td>\n",
       "      <td>238° (WSW)</td>\n",
       "      <td>0.00 in.</td>\n",
       "      <td>...</td>\n",
       "      <td>0.00 in. on day 05 at time 23:59</td>\n",
       "      <td>39.3°F on day 05 at time 10:38</td>\n",
       "      <td>25.5°F on day 05 at time 23:59</td>\n",
       "      <td>81% on day 05 at time 11:04</td>\n",
       "      <td>33% on day 05 at time 00:07</td>\n",
       "      <td>30.051 in. on day 05 at time 23:58</td>\n",
       "      <td>29.654 in. on day 05 at time 11:57</td>\n",
       "      <td>24.2 mph on day 05 at time 15:18</td>\n",
       "      <td>38.0 mph  from 265 °( W ) on day 05 at time 1...</td>\n",
       "      <td>39.3°F on day 05 at time 10:38</td>\n",
       "    </tr>\n",
       "  </tbody>\n",
       "</table>\n",
       "<p>5 rows × 21 columns</p>\n",
       "</div>"
      ],
      "text/plain": [
       "   Unnamed: 0 Average and Extremes  Average temperature  Average humidity  \\\n",
       "0           0               Jan 1                  21.2              70.0   \n",
       "1           1               Jan 2                  29.3              37.0   \n",
       "2           2               Jan 3                  31.2              45.0   \n",
       "3           3               Jan 4                  34.2              30.0   \n",
       "4           4               Jan 5                  33.6              48.0   \n",
       "\n",
       "   Average dewpoint  Average barometer  Average windspeed  Average gustspeed  \\\n",
       "0              12.4               30.1                1.1                2.1   \n",
       "1               5.5               29.9               13.7               19.8   \n",
       "2              12.2               29.9               13.4               19.2   \n",
       "3               4.7               30.0                9.1               12.8   \n",
       "4              15.8               29.8               10.6               15.6   \n",
       "\n",
       "  Average direction Rainfall for month  ...  \\\n",
       "0        331° (NNW)           0.00 in.  ...   \n",
       "1        237° (WSW)           0.00 in.  ...   \n",
       "2        233° ( SW)           0.00 in.  ...   \n",
       "3        214° ( SW)           0.00 in.  ...   \n",
       "4        238° (WSW)           0.00 in.  ...   \n",
       "\n",
       "             Maximum rain per minute              Maximum temperature  \\\n",
       "0   0.00 in. on day 01 at time 00:00   39.1°F on day 01 at time 14:33   \n",
       "1   0.00 in. on day 02 at time 23:59   37.0°F on day 02 at time 12:20   \n",
       "2   0.00 in. on day 03 at time 23:59   38.4°F on day 03 at time 15:57   \n",
       "3   0.00 in. on day 04 at time 23:59   43.3°F on day 04 at time 14:39   \n",
       "4   0.00 in. on day 05 at time 23:59   39.3°F on day 05 at time 10:38   \n",
       "\n",
       "               Minimum temperature              Maximum humidity  \\\n",
       "0    9.7°F on day 01 at time 23:22   91% on day 01 at time 23:49   \n",
       "1   23.6°F on day 02 at time 00:00   62% on day 02 at time 00:00   \n",
       "2   25.8°F on day 03 at time 00:14   65% on day 03 at time 20:35   \n",
       "3   27.8°F on day 04 at time 06:14   51% on day 04 at time 01:48   \n",
       "4   25.5°F on day 05 at time 23:59   81% on day 05 at time 11:04   \n",
       "\n",
       "               Minimum humidity                     Maximum pressure  \\\n",
       "0   39% on day 01 at time 14:37   30.176 in. on day 01 at time 10:04   \n",
       "1   20% on day 02 at time 10:53   30.116 in. on day 02 at time 00:06   \n",
       "2   36% on day 03 at time 03:42   29.965 in. on day 03 at time 23:46   \n",
       "3   15% on day 04 at time 16:11   30.110 in. on day 04 at time 09:46   \n",
       "4   33% on day 05 at time 00:07   30.051 in. on day 05 at time 23:58   \n",
       "\n",
       "                      Minimum pressure                  Maximum windspeed  \\\n",
       "0   29.940 in. on day 01 at time 03:44    9.2 mph on day 01 at time 23:58   \n",
       "1   29.808 in. on day 02 at time 12:49   25.3 mph on day 02 at time 13:06   \n",
       "2   29.769 in. on day 03 at time 14:02   29.9 mph on day 03 at time 11:12   \n",
       "3   29.790 in. on day 04 at time 23:48   21.9 mph on day 04 at time 03:40   \n",
       "4   29.654 in. on day 05 at time 11:57   24.2 mph on day 05 at time 15:18   \n",
       "\n",
       "                                  Maximum gust speed  \\\n",
       "0   15.0 mph  from 237 °(WSW) on day 01 at time 2...   \n",
       "1   38.0 mph  from 195 °(SSW) on day 02 at time 1...   \n",
       "2   43.7 mph  from 252 °(WSW) on day 03 at time 1...   \n",
       "3   34.5 mph  from 221 °( SW) on day 04 at time 0...   \n",
       "4   38.0 mph  from 265 °( W ) on day 05 at time 1...   \n",
       "\n",
       "                Maximum heat index  \n",
       "0   39.1°F on day 01 at time 14:33  \n",
       "1   37.0°F on day 02 at time 12:20  \n",
       "2   38.4°F on day 03 at time 15:57  \n",
       "3   43.3°F on day 04 at time 14:38  \n",
       "4   39.3°F on day 05 at time 10:38  \n",
       "\n",
       "[5 rows x 21 columns]"
      ]
     },
     "execution_count": 6,
     "metadata": {},
     "output_type": "execute_result"
    }
   ],
   "source": [
    "estes_park_df.head()"
   ]
  },
  {
   "cell_type": "markdown",
   "id": "d76f4167",
   "metadata": {},
   "source": [
    "## 1.1. What kind of variables do we have?\n",
    "\n",
    "Check the output from the info method above. There are two kinds of columns (variables)\n",
    "\n",
    "- Numerical (int, float): Average temperature, Average humidity, Average dewpoint, ...\n",
    "- Categorical (strings): Date"
   ]
  },
  {
   "cell_type": "markdown",
   "id": "ad0b257f",
   "metadata": {},
   "source": [
    "## 2. Print column names and access column data?\n",
    "Say you want the average_temperature column as a list type object "
   ]
  },
  {
   "cell_type": "code",
   "execution_count": 7,
   "id": "7cc1cc45",
   "metadata": {},
   "outputs": [
    {
     "name": "stdout",
     "output_type": "stream",
     "text": [
      "Index(['Unnamed: 0', 'Average and Extremes', 'Average temperature',\n",
      "       'Average humidity', 'Average dewpoint', 'Average barometer',\n",
      "       'Average windspeed', 'Average gustspeed', 'Average direction',\n",
      "       'Rainfall for month', 'Rainfall for year', 'Maximum rain per minute',\n",
      "       'Maximum temperature', 'Minimum temperature', 'Maximum humidity',\n",
      "       'Minimum humidity', 'Maximum pressure', 'Minimum pressure',\n",
      "       'Maximum windspeed', 'Maximum gust speed', 'Maximum heat index'],\n",
      "      dtype='object')\n",
      "0     21.2\n",
      "1     29.3\n",
      "2     31.2\n",
      "3     34.2\n",
      "4     33.6\n",
      "5     27.6\n",
      "6     27.6\n",
      "7     26.0\n",
      "8     17.4\n",
      "9     17.0\n",
      "10    16.8\n",
      "11    32.3\n",
      "12    40.1\n",
      "13    23.9\n",
      "14    34.3\n",
      "15    34.1\n",
      "16    33.1\n",
      "17    24.9\n",
      "18    20.4\n",
      "19    35.1\n",
      "20    32.1\n",
      "21    31.0\n",
      "22    29.7\n",
      "23    21.3\n",
      "24    16.9\n",
      "25    12.7\n",
      "26    27.2\n",
      "27    39.1\n",
      "28    38.3\n",
      "29    32.8\n",
      "30    30.8\n",
      "31    28.1\n",
      "Name: Average temperature, dtype: float64\n"
     ]
    }
   ],
   "source": [
    "column_names = estes_park_df.columns\n",
    "print (column_names)\n",
    "\n",
    "average_temperature = estes_park_df[\"Average temperature\"]\n",
    "print (average_temperature)\n"
   ]
  },
  {
   "cell_type": "markdown",
   "id": "9f9f03da",
   "metadata": {},
   "source": [
    "## 3. Descriptive Stats using df.describe() method"
   ]
  },
  {
   "cell_type": "code",
   "execution_count": 8,
   "id": "24b58b37",
   "metadata": {
    "scrolled": true
   },
   "outputs": [
    {
     "data": {
      "text/plain": [
       "count    32.000000\n",
       "mean     28.128125\n",
       "std       7.149746\n",
       "min      12.700000\n",
       "25%      23.250000\n",
       "50%      29.500000\n",
       "75%      33.225000\n",
       "max      40.100000\n",
       "Name: Average temperature, dtype: float64"
      ]
     },
     "execution_count": 8,
     "metadata": {},
     "output_type": "execute_result"
    }
   ],
   "source": [
    "average_temperature.describe()"
   ]
  },
  {
   "cell_type": "markdown",
   "id": "aaddbf4c",
   "metadata": {},
   "source": [
    "**Insights:**\n",
    "The range of the temperature is: [-0.8, 42.9]. Also, the mean temperature is below freezing point (~25F) on an average with a standard deviation of 10.21F. Estes Park was  generally cold during the month of January 2023. "
   ]
  },
  {
   "cell_type": "markdown",
   "id": "61c31376",
   "metadata": {},
   "source": [
    "### 3.1. Frequency plot using df.hist() method\n",
    "\n",
    "Pandas DataFrames already provide a plotting function that can bin our data into frequency buckets and then plot frequencies. Frequency plots are called **histograms**."
   ]
  },
  {
   "cell_type": "code",
   "execution_count": 9,
   "id": "160e287c",
   "metadata": {
    "scrolled": true
   },
   "outputs": [
    {
     "data": {
      "text/plain": [
       "<AxesSubplot:>"
      ]
     },
     "execution_count": 9,
     "metadata": {},
     "output_type": "execute_result"
    },
    {
     "data": {
      "image/png": "[encoded data removed]",
      "text/plain": [
       "<Figure size 640x480 with 1 Axes>"
      ]
     },
     "metadata": {},
     "output_type": "display_data"
    }
   ],
   "source": [
    "average_temperature.hist(bins=10)"
   ]
  },
  {
   "cell_type": "markdown",
   "id": "cc43de10",
   "metadata": {},
   "source": [
    "#### 3.1.1 What does the histogram represent?\n",
    "\n",
    "On x-axis, we have the values of temperature binned into 10 bins. Based on the range i.e., [-0.8, 42.9] and the bin size of 10, the bins are:\n",
    "\n",
    "- bin1: [-0.8,3.57]\n",
    "- bin2: [3.58,7.94]\n",
    "- ...\n",
    "- bin10: [38.53,42.9]\n",
    "\n",
    "The y-axis represents number of times temperature values fall under a certain bin (i.e., frequency). E.g., *bin1* has 2 temperature values. *bin9* has 4 values. \n",
    "\n",
    "Let's try and keep the binsize same as the number of rows"
   ]
  },
  {
   "cell_type": "code",
   "execution_count": 141,
   "id": "dbf79036",
   "metadata": {
    "scrolled": true
   },
   "outputs": [
    {
     "data": {
      "text/plain": [
       "<AxesSubplot: >"
      ]
     },
     "execution_count": 141,
     "metadata": {},
     "output_type": "execute_result"
    },
    {
     "data": {
      "image/png": "[encoded data removed]",
      "text/plain": [
       "<Figure size 640x480 with 1 Axes>"
      ]
     },
     "metadata": {},
     "output_type": "display_data"
    }
   ],
   "source": [
    "average_temperature.hist(bins=len(average_temperature))"
   ]
  },
  {
   "cell_type": "markdown",
   "id": "96606076",
   "metadata": {},
   "source": [
    "Try some other values?"
   ]
  },
  {
   "cell_type": "code",
   "execution_count": 142,
   "id": "5e51370d",
   "metadata": {
    "scrolled": true
   },
   "outputs": [
    {
     "data": {
      "text/plain": [
       "<AxesSubplot: >"
      ]
     },
     "execution_count": 142,
     "metadata": {},
     "output_type": "execute_result"
    },
    {
     "data": {
      "image/png": "[encoded data removed]",
      "text/plain": [
       "<Figure size 640x480 with 1 Axes>"
      ]
     },
     "metadata": {},
     "output_type": "display_data"
    }
   ],
   "source": [
    "average_temperature.hist(bins=5)"
   ]
  },
  {
   "cell_type": "markdown",
   "id": "97ccb6e1",
   "metadata": {},
   "source": [
    "Looks somewhat like a bell curve? Let's revisit the empirical rules we came across in the lecture. "
   ]
  },
  {
   "cell_type": "markdown",
   "id": "ad08fbbd",
   "metadata": {},
   "source": [
    "If you plot your data based on frequency and it looks \"normal\" \n",
    "- about 68% of data within 1 standard dev. of mean\n",
    "- about 95% of data within 2 standard dev. of mean\n",
    "- all or nearly all data within 3 standard dev. of mean\n",
    "\n",
    "**Insights:** In our case `mean + 2*stdev ~ 44F` which represents the fact that ~68% of the time we will have temperature less than 44F. So we can confidently say that on any day in the month of January 2023, if we planned a visit to Estes Park, we would have had to do a lot of winter prep. "
   ]
  },
  {
   "cell_type": "markdown",
   "id": "457626f9",
   "metadata": {},
   "source": [
    "## E1. Exercise: Describe and Plot Histogram for \"Average humidity\""
   ]
  },
  {
   "cell_type": "markdown",
   "id": "280e56dd",
   "metadata": {},
   "source": [
    "What Can you try different bin sizes for the histogram? What insights do you get?"
   ]
  },
  {
   "cell_type": "code",
   "execution_count": 13,
   "id": "f5e6d723",
   "metadata": {},
   "outputs": [
    {
     "name": "stdout",
     "output_type": "stream",
     "text": [
      "Index(['Unnamed: 0', 'Average and Extremes', 'Average temperature',\n",
      "       'Average humidity', 'Average dewpoint', 'Average barometer',\n",
      "       'Average windspeed', 'Average gustspeed', 'Average direction',\n",
      "       'Rainfall for month', 'Rainfall for year', 'Maximum rain per minute',\n",
      "       'Maximum temperature', 'Minimum temperature', 'Maximum humidity',\n",
      "       'Minimum humidity', 'Maximum pressure', 'Minimum pressure',\n",
      "       'Maximum windspeed', 'Maximum gust speed', 'Maximum heat index'],\n",
      "      dtype='object')\n",
      "0     70.0\n",
      "1     37.0\n",
      "2     45.0\n",
      "3     30.0\n",
      "4     48.0\n",
      "5     43.0\n",
      "6     55.0\n",
      "7     47.0\n",
      "8     82.0\n",
      "9     79.0\n",
      "10    54.0\n",
      "11    32.0\n",
      "12    42.0\n",
      "13    33.0\n",
      "14    23.0\n",
      "15    40.0\n",
      "16    48.0\n",
      "17    52.0\n",
      "18    63.0\n",
      "19    39.0\n",
      "20    54.0\n",
      "21    59.0\n",
      "22    59.0\n",
      "23    67.0\n",
      "24    81.0\n",
      "25    83.0\n",
      "26    40.0\n",
      "27    42.0\n",
      "28    34.0\n",
      "29    44.0\n",
      "30    34.0\n",
      "31    50.0\n",
      "Name: Average humidity, dtype: float64\n"
     ]
    },
    {
     "data": {
      "text/plain": [
       "<AxesSubplot:>"
      ]
     },
     "execution_count": 13,
     "metadata": {},
     "output_type": "execute_result"
    },
    {
     "data": {
      "image/png": "[encoded data removed]",
      "text/plain": [
       "<Figure size 640x480 with 1 Axes>"
      ]
     },
     "metadata": {},
     "output_type": "display_data"
    }
   ],
   "source": [
    "column_names = estes_park_df.columns\n",
    "print (column_names)\n",
    "\n",
    "average_humidity = estes_park_df[\"Average humidity\"]\n",
    "print (average_humidity)\n",
    "\n",
    "average_humidity.hist(bins=5)"
   ]
  },
  {
   "cell_type": "markdown",
   "id": "8c969535",
   "metadata": {},
   "source": [
    "## 3.2. Bivariate Analysis\n",
    "We are going to study the association between two columns (i.e., two variables). For this we compute the Pearson correlction coefficient between two variables. \n",
    "\n",
    "Let's say our two variables of choice are (a) Average windspeed and (b) Average gustspeed."
   ]
  },
  {
   "cell_type": "code",
   "execution_count": 143,
   "id": "c2b10b7e",
   "metadata": {
    "scrolled": true
   },
   "outputs": [
    {
     "name": "stdout",
     "output_type": "stream",
     "text": [
      "0.9986067307768813\n"
     ]
    }
   ],
   "source": [
    "from scipy.stats import pearsonr\n",
    "\n",
    "p = pearsonr(estes_park_df[\"Average windspeed\"],estes_park_df[\"Average gustspeed\"])\n",
    "print (p[0])"
   ]
  },
  {
   "cell_type": "markdown",
   "id": "07cb2426",
   "metadata": {},
   "source": [
    "**Insight:** The first value above represents the corelation coefficient, whcih is ~**0.998**. This means windspeed is strongly correlated with gust speed, which is expected. "
   ]
  },
  {
   "cell_type": "markdown",
   "id": "4b99febf",
   "metadata": {},
   "source": [
    "Now let's try to extract a correlation matrix for all the **numerical columns**"
   ]
  },
  {
   "cell_type": "markdown",
   "id": "54fb3c4e",
   "metadata": {},
   "source": [
    "**Insights:**\n",
    "- Temperature and humidity are strongly \"negatively\" correlated at -0.578 which indicates that as the temperature (especially in the cold weather in January 2023) rises, it will probably result in a less humid atmosphere.\n",
    "- Temperature and pressure are strongly \"negatively\" correlated at -0.482231 which indicates that a rise in temperature will reduce atmospheric pressure, which is expected. \n",
    "- Humidity and dew points are very weakly correlated at 0.101796 and it appears that there is no relationship between them. (Is this expected?)\n",
    "\n",
    "Any other insights?"
   ]
  },
  {
   "cell_type": "markdown",
   "id": "6c12ee8d",
   "metadata": {},
   "source": [
    "## 4. Data visualization"
   ]
  },
  {
   "cell_type": "markdown",
   "id": "e2aaae77",
   "metadata": {},
   "source": [
    "## 4.1. Bar Graphs\n",
    "A bar chart or bar graph is a chart or graph that presents categorical data with rectangular bars with heights or lengths proportional to the values that they represent. \n",
    "\n",
    "In the above data, the only categorical data is \"Date\" (we are of-course ignoring the  unprocessed columns from Average direction onwards).\n",
    "\n",
    "Say we want to plot Average Temperature for **five random dates**, without maintaining sequentiality. We can go for a bar graph.\n"
   ]
  },
  {
   "cell_type": "code",
   "execution_count": 144,
   "id": "6dcff0e0",
   "metadata": {
    "scrolled": true
   },
   "outputs": [
    {
     "data": {
      "text/plain": [
       "<BarContainer object of 5 artists>"
      ]
     },
     "execution_count": 144,
     "metadata": {},
     "output_type": "execute_result"
    },
    {
     "data": {
      "text/plain": [
       "Text(0.5, 0, 'Date')"
      ]
     },
     "execution_count": 144,
     "metadata": {},
     "output_type": "execute_result"
    },
    {
     "data": {
      "text/plain": [
       "Text(0, 0.5, \"Average per-day temperature in 'F\")"
      ]
     },
     "execution_count": 144,
     "metadata": {},
     "output_type": "execute_result"
    },
    {
     "data": {
      "text/plain": [
       "Text(0.5, 1.0, 'Temperature for 5 random days January 2023')"
      ]
     },
     "execution_count": 144,
     "metadata": {},
     "output_type": "execute_result"
    },
    {
     "data": {
      "image/png": "[encoded data removed]",
      "text/plain": [
       "<Figure size 640x480 with 1 Axes>"
      ]
     },
     "metadata": {},
     "output_type": "display_data"
    }
   ],
   "source": [
    "five_random_days = [1,4,8,19,25]\n",
    "\n",
    "date_column = estes_park_df[\"Average and Extremes\"]\n",
    "temp_column = estes_park_df[\"Average temperature\"]\n",
    "\n",
    "selected_dates = []\n",
    "selected_temps = []\n",
    "\n",
    "for day_id in five_random_days:\n",
    "    selected_dates.append(date_column[day_id])\n",
    "    selected_temps.append(temp_column[day_id])\n",
    "    \n",
    "\n",
    "# Now plot our bar graph\n",
    "plt.bar(selected_dates, selected_temps, color ='maroon', width = 0.4)\n",
    "\n",
    "# Now add axis labels with units\n",
    "plt.xlabel(\"Date\")\n",
    "plt.ylabel(\"Average per-day temperature in 'F\")\n",
    "\n",
    "# We can add a title too\n",
    "plt.title(\"Temperature for 5 random days January 2023\")\n"
   ]
  },
  {
   "cell_type": "markdown",
   "id": "f8764e22",
   "metadata": {},
   "source": [
    "## 4.2. Line Graphs\n",
    "\n",
    "- Best used when the x-axis represents a sequence (e.g., time) and y-axis is a continuous numerical variable.\n",
    "\n",
    "We can approximate days in January 2023 as a representation of sequentiality (time) and plot temperature-vs-day as a line graph"
   ]
  },
  {
   "cell_type": "code",
   "execution_count": 145,
   "id": "1eca9475",
   "metadata": {},
   "outputs": [
    {
     "data": {
      "text/plain": [
       "[<matplotlib.lines.Line2D at 0x7fb90d2e3760>]"
      ]
     },
     "execution_count": 145,
     "metadata": {},
     "output_type": "execute_result"
    },
    {
     "data": {
      "text/plain": [
       "Text(0.5, 0, 'Day number')"
      ]
     },
     "execution_count": 145,
     "metadata": {},
     "output_type": "execute_result"
    },
    {
     "data": {
      "text/plain": [
       "Text(0, 0.5, \"Average per-day temperature in 'F\")"
      ]
     },
     "execution_count": 145,
     "metadata": {},
     "output_type": "execute_result"
    },
    {
     "data": {
      "text/plain": [
       "Text(0.5, 1.0, 'Temperature progression in January 2023')"
      ]
     },
     "execution_count": 145,
     "metadata": {},
     "output_type": "execute_result"
    },
    {
     "data": {
      "image/png": "[encoded data removed]",
      "text/plain": [
       "<Figure size 640x480 with 1 Axes>"
      ]
     },
     "metadata": {},
     "output_type": "display_data"
    }
   ],
   "source": [
    "day_ids = range(len(date_column)) # creates a variable 0,1,2...total_days\n",
    "temp_column = estes_park_df[\"Average temperature\"]\n",
    "\n",
    "plt.plot(day_ids,temp_column, marker='o')\n",
    "\n",
    "plt.xlabel(\"Day number\")\n",
    "plt.ylabel(\"Average per-day temperature in 'F\")\n",
    "\n",
    "# We can add a title too\n",
    "plt.title(\"Temperature progression in January 2023\")"
   ]
  },
  {
   "cell_type": "markdown",
   "id": "f7fe07b1",
   "metadata": {},
   "source": [
    "## 4.3. Scatter Plots\n",
    "\n",
    "- Best for representing relationship between two continuous variables\n",
    "- Can add third continuous variable represented by marker size\n",
    "- Can add categorical information by changing marker color\n",
    "\n",
    "Let's plot windspeed and gust speed together. "
   ]
  },
  {
   "cell_type": "code",
   "execution_count": 146,
   "id": "a9c0d5aa",
   "metadata": {
    "scrolled": false
   },
   "outputs": [
    {
     "data": {
      "text/plain": [
       "<matplotlib.collections.PathCollection at 0x7fb90d35a1d0>"
      ]
     },
     "execution_count": 146,
     "metadata": {},
     "output_type": "execute_result"
    },
    {
     "data": {
      "text/plain": [
       "Text(0.5, 0, 'Average windspeed (in mph)')"
      ]
     },
     "execution_count": 146,
     "metadata": {},
     "output_type": "execute_result"
    },
    {
     "data": {
      "text/plain": [
       "Text(0, 0.5, 'Average gustspeed (in mph)')"
      ]
     },
     "execution_count": 146,
     "metadata": {},
     "output_type": "execute_result"
    },
    {
     "data": {
      "text/plain": [
       "Text(0.5, 1.0, 'gustspeed-vs-windspeed in January 2023')"
      ]
     },
     "execution_count": 146,
     "metadata": {},
     "output_type": "execute_result"
    },
    {
     "data": {
      "image/png": "[encoded data removed]",
      "text/plain": [
       "<Figure size 640x480 with 1 Axes>"
      ]
     },
     "metadata": {},
     "output_type": "display_data"
    }
   ],
   "source": [
    "windspeed_column = estes_park_df[\"Average windspeed\"]\n",
    "gustspeed_column = estes_park_df[\"Average gustspeed\"]\n",
    "\n",
    "plt.scatter(windspeed_column,gustspeed_column, marker=\"*\")\n",
    "\n",
    "plt.xlabel(\"Average windspeed (in mph)\")\n",
    "plt.ylabel(\"Average gustspeed (in mph)\")\n",
    "\n",
    "# We can add a title too\n",
    "plt.title(\"gustspeed-vs-windspeed in January 2023\")"
   ]
  },
  {
   "cell_type": "markdown",
   "id": "cf4a93ef",
   "metadata": {},
   "source": [
    "Does this corroborate with our correlation analysis in 3.2?"
   ]
  },
  {
   "cell_type": "markdown",
   "id": "fb8b8dab",
   "metadata": {},
   "source": [
    "Now let's draw a scatter plot considering three variables where the third variable is represented by marker size. The variables are:\n",
    "\n",
    "- Average temperature\n",
    "- Average pressure (barometer)\n",
    "- Average humidity"
   ]
  },
  {
   "cell_type": "code",
   "execution_count": 147,
   "id": "e3e15000",
   "metadata": {
    "scrolled": true
   },
   "outputs": [
    {
     "data": {
      "text/plain": [
       "<matplotlib.collections.PathCollection at 0x7fb91a0a5c90>"
      ]
     },
     "execution_count": 147,
     "metadata": {},
     "output_type": "execute_result"
    },
    {
     "data": {
      "image/png": "[encoded data removed]",
      "text/plain": [
       "<Figure size 640x480 with 1 Axes>"
      ]
     },
     "metadata": {},
     "output_type": "display_data"
    }
   ],
   "source": [
    "temp_column = estes_park_df[\"Average temperature\"]\n",
    "pressure_column = estes_park_df[\"Average barometer\"]\n",
    "humidity_column = estes_park_df[\"Average humidity\"]\n",
    "\n",
    "plt.scatter(temp_column, pressure_column, marker=\"o\", s=humidity_column)"
   ]
  },
  {
   "cell_type": "markdown",
   "id": "204595e3",
   "metadata": {},
   "source": [
    "## 4.4. Box Plots\n",
    "- A Box Plot is also known as Whisker plot is created to display the summary of the set of data values for a variable \n",
    "- Properties like minimum, first quartile, median, third quartile and maximum. \n",
    "- Also plots outliers\n",
    "\n",
    "Let's plot Average temperature using boxplot."
   ]
  },
  {
   "cell_type": "code",
   "execution_count": 148,
   "id": "29bce620",
   "metadata": {
    "scrolled": true
   },
   "outputs": [
    {
     "data": {
      "text/plain": [
       "{'whiskers': [<matplotlib.lines.Line2D at 0x7fb91a103220>,\n",
       "  <matplotlib.lines.Line2D at 0x7fb91a1034c0>],\n",
       " 'caps': [<matplotlib.lines.Line2D at 0x7fb91a103760>,\n",
       "  <matplotlib.lines.Line2D at 0x7fb91a103a00>],\n",
       " 'boxes': [<matplotlib.lines.Line2D at 0x7fb91a102f80>],\n",
       " 'medians': [<matplotlib.lines.Line2D at 0x7fb91a103cd0>],\n",
       " 'fliers': [<matplotlib.lines.Line2D at 0x7fb91a103f70>],\n",
       " 'means': []}"
      ]
     },
     "execution_count": 148,
     "metadata": {},
     "output_type": "execute_result"
    },
    {
     "data": {
      "text/plain": [
       "Text(0.5, 0, 'Temperature')"
      ]
     },
     "execution_count": 148,
     "metadata": {},
     "output_type": "execute_result"
    },
    {
     "data": {
      "text/plain": [
       "Text(0, 0.5, \"Temp in 'F\")"
      ]
     },
     "execution_count": 148,
     "metadata": {},
     "output_type": "execute_result"
    },
    {
     "data": {
      "image/png": "[encoded data removed]",
      "text/plain": [
       "<Figure size 640x480 with 1 Axes>"
      ]
     },
     "metadata": {},
     "output_type": "display_data"
    }
   ],
   "source": [
    "temp_column = estes_park_df[\"Average temperature\"]\n",
    "\n",
    "plt.boxplot(temp_column)\n",
    "\n",
    "plt.xlabel(\"Temperature\")\n",
    "plt.ylabel(\"Temp in 'F\")"
   ]
  },
  {
   "cell_type": "markdown",
   "id": "33e8df68",
   "metadata": {},
   "source": [
    "## E2. Exercise: IMDB Movie Data\n",
    "\n",
    "- Download the IMDB Movie Data (extracted from Kaggle's IMDB Movie Dataset posting) from **Canvas->Files->Week6->IMDB_movie_metadata_small.csv**\n",
    "- Load the data to a Pandas dataframe using read_csv() method \n",
    "- Which columns are categorical and which ones are numerical? Write in a markdown block.\n",
    "- Describe columns \"gross\" (represents total revenue made by the movie) and \"imdb_score\" using describe(). Write your insights in a markdown block.\n",
    "- Analyze \"imdb_score\" and \"gross\" together by computing the Pearson's correlation coefficient. What does it tell you? Write down in a markdown block.\n",
    "- Plot \"gross\" vs \"director_name\" for the **first 10 rows**. Which form of plot are you going to use?\n",
    "- Plot \"imdb_score\"-vs-\"movie_facebook_likes\". Which form of plot are you going to use?\n",
    "- Boxplot \"gross\" and write down your insights from the box plot. \n",
    "\n"
   ]
  },
  {
   "cell_type": "code",
   "execution_count": 17,
   "id": "b1bc3a90",
   "metadata": {},
   "outputs": [],
   "source": [
    "\n",
    "import pandas as pd\n",
    "imdb_data = pd.read_csv(\"IMDB_movie_metadata_small.csv\")"
   ]
  },
  {
   "cell_type": "markdown",
   "id": "6239421e",
   "metadata": {},
   "source": [
    "Categorical: movie id, director_name\n",
    "Numerical: imdb_score, movie_facebook_likes, gross, title_year"
   ]
  },
  {
   "cell_type": "code",
   "execution_count": 19,
   "id": "462b6ca2",
   "metadata": {
    "scrolled": true
   },
   "outputs": [
    {
     "data": {
      "text/plain": [
       "count    3.752000e+03\n",
       "mean     5.241706e+07\n",
       "std      6.996881e+07\n",
       "min      1.620000e+02\n",
       "25%      8.216464e+06\n",
       "50%      3.007156e+07\n",
       "75%      6.674881e+07\n",
       "max      7.605058e+08\n",
       "Name: gross, dtype: float64"
      ]
     },
     "execution_count": 19,
     "metadata": {},
     "output_type": "execute_result"
    },
    {
     "data": {
      "text/plain": [
       "count    3752.000000\n",
       "mean        6.464819\n",
       "std         1.056651\n",
       "min         1.600000\n",
       "25%         5.900000\n",
       "50%         6.600000\n",
       "75%         7.200000\n",
       "max         9.300000\n",
       "Name: imdb_score, dtype: float64"
      ]
     },
     "execution_count": 19,
     "metadata": {},
     "output_type": "execute_result"
    }
   ],
   "source": [
    "gross = imdb_data[\"gross\"]\n",
    "gross.describe()\n",
    "\n",
    "imdb_score = imdb_data[\"imdb_score\"]\n",
    "imdb_score.describe()"
   ]
  },
  {
   "cell_type": "code",
   "execution_count": null,
   "id": "fb987f49",
   "metadata": {},
   "outputs": [],
   "source": []
  },
  {
   "cell_type": "markdown",
   "id": "9b73d016",
   "metadata": {},
   "source": [
    "gross insights: the median is quite a bit lower than the mean, so the data is left skewed\n",
    "\n",
    "imdb insights: the mean and median close, which means that the data is close to normal, although it is slightly right skewed. "
   ]
  },
  {
   "cell_type": "code",
   "execution_count": 32,
   "id": "5b675133",
   "metadata": {},
   "outputs": [
    {
     "name": "stdout",
     "output_type": "stream",
     "text": [
      "0.21416282319753127\n"
     ]
    }
   ],
   "source": [
    "from scipy.stats import pearsonr\n",
    "p = pearsonr(imdb_data[\"gross\"],imdb_data[\"imdb_score\"])\n",
    "print (p[0])"
   ]
  },
  {
   "cell_type": "markdown",
   "id": "961f7914",
   "metadata": {},
   "source": [
    "there is a weak positive correlation between a movie's gross revenue and its IMDB score"
   ]
  },
  {
   "cell_type": "code",
   "execution_count": 50,
   "id": "c31d6251",
   "metadata": {},
   "outputs": [
    {
     "name": "stdout",
     "output_type": "stream",
     "text": [
      "[760505847.0, 309404152.0, 200074175.0, 448130642.0, 73058679.0, 336530303.0, 200807262.0, 458991599.0, 301956980.0, 330249062.0]\n"
     ]
    },
    {
     "data": {
      "text/plain": [
       "<BarContainer object of 10 artists>"
      ]
     },
     "execution_count": 50,
     "metadata": {},
     "output_type": "execute_result"
    },
    {
     "data": {
      "text/plain": [
       "Text(0.5, 0, 'directors')"
      ]
     },
     "execution_count": 50,
     "metadata": {},
     "output_type": "execute_result"
    },
    {
     "data": {
      "text/plain": [
       "Text(0, 0.5, 'gross')"
      ]
     },
     "execution_count": 50,
     "metadata": {},
     "output_type": "execute_result"
    },
    {
     "data": {
      "image/png": "[encoded data removed]",
      "text/plain": [
       "<Figure size 640x480 with 1 Axes>"
      ]
     },
     "metadata": {},
     "output_type": "display_data"
    }
   ],
   "source": [
    "#bar chart because we're comparing a categorial to numerical\n",
    "director = imdb_data[\"director_name\"]\n",
    "director = director.tolist()\n",
    "first10 = director[0:10]\n",
    "\n",
    "gross = imdb_data['gross']\n",
    "gross = gross.tolist()\n",
    "gross10 = gross[0:10]\n",
    "print(gross10)\n",
    "\n",
    "plt.bar(first10, gross10, color ='maroon', width = 0.05)\n",
    "plt.xlabel(\"directors\")\n",
    "plt.ylabel(\"gross\")\n"
   ]
  },
  {
   "cell_type": "code",
   "execution_count": 30,
   "id": "d756b125",
   "metadata": {
    "scrolled": true
   },
   "outputs": [
    {
     "data": {
      "text/plain": [
       "<matplotlib.collections.PathCollection at 0x15980498cd0>"
      ]
     },
     "execution_count": 30,
     "metadata": {},
     "output_type": "execute_result"
    },
    {
     "data": {
      "text/plain": [
       "Text(0.5, 0, 'IMBD Score')"
      ]
     },
     "execution_count": 30,
     "metadata": {},
     "output_type": "execute_result"
    },
    {
     "data": {
      "text/plain": [
       "Text(0, 0.5, 'Likes on facebook')"
      ]
     },
     "execution_count": 30,
     "metadata": {},
     "output_type": "execute_result"
    },
    {
     "data": {
      "image/png": "[encoded data removed]",
      "text/plain": [
       "<Figure size 640x480 with 1 Axes>"
      ]
     },
     "metadata": {},
     "output_type": "display_data"
    }
   ],
   "source": [
    "#scatter plot because we're comparing 2 numerical\n",
    "likes = imdb_data[\"movie_facebook_likes\"]\n",
    "score = imdb_data[\"imdb_score\"]\n",
    "plt.scatter(score, likes)\n",
    "plt.xlabel(\"IMBD Score\")\n",
    "plt.ylabel(\"Likes on facebook\")"
   ]
  },
  {
   "cell_type": "code",
   "execution_count": 29,
   "id": "138c9acc",
   "metadata": {},
   "outputs": [
    {
     "data": {
      "text/plain": [
       "{'whiskers': [<matplotlib.lines.Line2D at 0x15980608b20>,\n",
       "  <matplotlib.lines.Line2D at 0x15980608df0>],\n",
       " 'caps': [<matplotlib.lines.Line2D at 0x15980608340>,\n",
       "  <matplotlib.lines.Line2D at 0x159806080a0>],\n",
       " 'boxes': [<matplotlib.lines.Line2D at 0x1598066c3a0>],\n",
       " 'medians': [<matplotlib.lines.Line2D at 0x15980608730>],\n",
       " 'fliers': [<matplotlib.lines.Line2D at 0x15980608460>],\n",
       " 'means': []}"
      ]
     },
     "execution_count": 29,
     "metadata": {},
     "output_type": "execute_result"
    },
    {
     "data": {
      "image/png": "[encoded data removed]",
      "text/plain": [
       "<Figure size 640x480 with 1 Axes>"
      ]
     },
     "metadata": {},
     "output_type": "display_data"
    }
   ],
   "source": [
    "plt.boxplot(gross)\n",
    "plt.ylabel(\"movies gross revenue\")"
   ]
  },
  {
   "cell_type": "markdown",
   "id": "ddacd72e",
   "metadata": {},
   "source": [
    "there are several outliers\n",
    "the top 25% is has a much larger range than any other quartile"
   ]
  },
  {
   "cell_type": "markdown",
   "id": "845cd365",
   "metadata": {},
   "source": [
    "## [Optional] Pro-tip: Go through Seaborn tutorial \n",
    "\n",
    "Seaborn is a library mostly used for statistical plotting in Python. It is built on top of Matplotlib and provides beautiful default styles and color palettes to make statistical plots more attractive.\n",
    "\n",
    "Tutorial here:\n",
    "\n",
    "https://www.geeksforgeeks.org/python-seaborn-tutorial/"
   ]
  }
 ],
 "metadata": {
  "kernelspec": {
   "display_name": "Python 3 (ipykernel)",
   "language": "python",
   "name": "python3"
  },
  "language_info": {
   "codemirror_mode": {
    "name": "ipython",
    "version": 3
   },
   "file_extension": ".py",
   "mimetype": "text/x-python",
   "name": "python",
   "nbconvert_exporter": "python",
   "pygments_lexer": "ipython3",
   "version": "3.9.13"
  }
 },
 "nbformat": 4,
 "nbformat_minor": 5
}
